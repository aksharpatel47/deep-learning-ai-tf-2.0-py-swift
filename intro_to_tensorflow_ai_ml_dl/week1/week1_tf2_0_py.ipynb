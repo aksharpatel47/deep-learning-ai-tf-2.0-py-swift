{
  "nbformat": 4,
  "nbformat_minor": 0,
  "metadata": {
    "colab": {
      "name": "week1_tf2.0_py.ipynb",
      "version": "0.3.2",
      "provenance": [],
      "collapsed_sections": [],
      "include_colab_link": true
    },
    "kernelspec": {
      "name": "python3",
      "display_name": "Python 3"
    },
    "accelerator": "GPU"
  },
  "cells": [
    {
      "cell_type": "markdown",
      "metadata": {
        "id": "view-in-github",
        "colab_type": "text"
      },
      "source": [
        "<a href=\"https://colab.research.google.com/github/aksharpatel47/deep-learning-ai-tf-2.0-py-swift/blob/master/intro_to_tensorflow_ai_ml_dl/week1/week1_tf2_0_py.ipynb\" target=\"_parent\"><img src=\"https://colab.research.google.com/assets/colab-badge.svg\" alt=\"Open In Colab\"/></a>"
      ]
    },
    {
      "cell_type": "code",
      "metadata": {
        "id": "tPjDbF4nk3Nx",
        "colab_type": "code",
        "colab": {
          "base_uri": "https://localhost:8080/",
          "height": 86
        },
        "outputId": "49793771-2e18-42ca-ba13-659d960c7d98"
      },
      "source": [
        "!pip install -q -U tensorflow-gpu==2.0.0-alpha0"
      ],
      "execution_count": 1,
      "outputs": [
        {
          "output_type": "stream",
          "text": [
            "\u001b[K     |████████████████████████████████| 332.1MB 51kB/s \n",
            "\u001b[K     |████████████████████████████████| 61kB 22.4MB/s \n",
            "\u001b[K     |████████████████████████████████| 419kB 48.8MB/s \n",
            "\u001b[K     |████████████████████████████████| 3.0MB 23.4MB/s \n",
            "\u001b[?25h"
          ],
          "name": "stdout"
        }
      ]
    },
    {
      "cell_type": "code",
      "metadata": {
        "id": "fTlNu_DTk7ee",
        "colab_type": "code",
        "colab": {}
      },
      "source": [
        "import tensorflow as tf\n",
        "from tensorflow import keras as kr\n",
        "import numpy as np\n",
        "import matplotlib.pyplot as plt"
      ],
      "execution_count": 0,
      "outputs": []
    },
    {
      "cell_type": "markdown",
      "metadata": {
        "id": "epWUqza7mSON",
        "colab_type": "text"
      },
      "source": [
        "## Hello World of Neural Networks"
      ]
    },
    {
      "cell_type": "code",
      "metadata": {
        "id": "iyjJ9xhxlda1",
        "colab_type": "code",
        "colab": {}
      },
      "source": [
        "model = kr.Sequential([kr.layers.Dense(units=1, input_shape=[1])])\n",
        "model.compile(optimizer='sgd', loss='mean_squared_error')"
      ],
      "execution_count": 0,
      "outputs": []
    },
    {
      "cell_type": "code",
      "metadata": {
        "id": "gU3K-kmOmzO8",
        "colab_type": "code",
        "colab": {}
      },
      "source": [
        "X = np.array([-1.,0,1,2,3,4])\n",
        "y = np.array([-3.,-1,1,3,5,7])"
      ],
      "execution_count": 0,
      "outputs": []
    },
    {
      "cell_type": "code",
      "metadata": {
        "id": "SqsISoOHpy0E",
        "colab_type": "code",
        "colab": {}
      },
      "source": [
        "model.fit(X, y, epochs=500)"
      ],
      "execution_count": 0,
      "outputs": []
    },
    {
      "cell_type": "code",
      "metadata": {
        "id": "1AKrt9XkpH1V",
        "colab_type": "code",
        "colab": {
          "base_uri": "https://localhost:8080/",
          "height": 34
        },
        "outputId": "b7317e0a-9614-45ed-9767-caddd32c0dd8"
      },
      "source": [
        "print(model.predict([10.0]))"
      ],
      "execution_count": 22,
      "outputs": [
        {
          "output_type": "stream",
          "text": [
            "[[17.75338]]\n"
          ],
          "name": "stdout"
        }
      ]
    }
  ]
}