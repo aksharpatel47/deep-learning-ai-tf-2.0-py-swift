{
  "nbformat": 4,
  "nbformat_minor": 0,
  "metadata": {
    "colab": {
      "name": "week2_tf2_py.ipynb",
      "version": "0.3.2",
      "provenance": [],
      "collapsed_sections": [],
      "include_colab_link": true
    },
    "kernelspec": {
      "name": "python3",
      "display_name": "Python 3"
    },
    "accelerator": "GPU"
  },
  "cells": [
    {
      "cell_type": "markdown",
      "metadata": {
        "id": "view-in-github",
        "colab_type": "text"
      },
      "source": [
        "<a href=\"https://colab.research.google.com/github/aksharpatel47/deep-learning-ai-tf-2.0-py-swift/blob/master/intro_to_tensorflow_ai_ml_dl/week2/week2_tf2_py.ipynb\" target=\"_parent\"><img src=\"https://colab.research.google.com/assets/colab-badge.svg\" alt=\"Open In Colab\"/></a>"
      ]
    },
    {
      "cell_type": "code",
      "metadata": {
        "id": "VATdG9rxA9W3",
        "colab_type": "code",
        "colab": {}
      },
      "source": [
        "!pip install -U -q tensorflow-gpu==2.0.0-alpha0"
      ],
      "execution_count": 0,
      "outputs": []
    },
    {
      "cell_type": "code",
      "metadata": {
        "id": "uZTIP_CTjbOQ",
        "colab_type": "code",
        "colab": {}
      },
      "source": [
        "import tensorflow as tf\n",
        "from tensorflow import keras as kr\n",
        "import matplotlib.pyplot as plt"
      ],
      "execution_count": 0,
      "outputs": []
    },
    {
      "cell_type": "code",
      "metadata": {
        "id": "R5gKXB1ynkw_",
        "colab_type": "code",
        "colab": {
          "base_uri": "https://localhost:8080/",
          "height": 34
        },
        "outputId": "bf225b9d-7952-4c85-fee6-0c78bf3ca2f6"
      },
      "source": [
        "print(tf.__version__)"
      ],
      "execution_count": 69,
      "outputs": [
        {
          "output_type": "stream",
          "text": [
            "2.0.0-alpha0\n"
          ],
          "name": "stdout"
        }
      ]
    },
    {
      "cell_type": "markdown",
      "metadata": {
        "id": "qCl8K7LModfF",
        "colab_type": "text"
      },
      "source": [
        "## Fashion MNIST, A Computer Vision Example"
      ]
    },
    {
      "cell_type": "code",
      "metadata": {
        "id": "NZIqPYK9mF8m",
        "colab_type": "code",
        "colab": {}
      },
      "source": [
        "mnist = kr.datasets.fashion_mnist"
      ],
      "execution_count": 0,
      "outputs": []
    },
    {
      "cell_type": "code",
      "metadata": {
        "id": "vFw0yvdByQLN",
        "colab_type": "code",
        "colab": {}
      },
      "source": [
        "(training_images, training_labels), (test_images, test_labels) = mnist.load_data()"
      ],
      "execution_count": 0,
      "outputs": []
    },
    {
      "cell_type": "code",
      "metadata": {
        "id": "puFBQyONohtc",
        "colab_type": "code",
        "colab": {
          "base_uri": "https://localhost:8080/",
          "height": 298
        },
        "outputId": "1d9d3cac-5cfc-4fbb-c230-99871cae1a9b"
      },
      "source": [
        "plt.title(\"Example\")\n",
        "plt.imshow(training_images[0])"
      ],
      "execution_count": 72,
      "outputs": [
        {
          "output_type": "execute_result",
          "data": {
            "text/plain": [
              "<matplotlib.image.AxesImage at 0x7f9cf237f6d8>"
            ]
          },
          "metadata": {
            "tags": []
          },
          "execution_count": 72
        },
        {
          "output_type": "display_data",
          "data": {
            "image/png": "[encoded data removed]",
            "text/plain": [
              "<Figure size 432x288 with 1 Axes>"
            ]
          },
          "metadata": {
            "tags": []
          }
        }
      ]
    },
    {
      "cell_type": "code",
      "metadata": {
        "id": "jH4RySfqoo4g",
        "colab_type": "code",
        "colab": {}
      },
      "source": [
        "training_images = training_images / 255.0\n",
        "test_images = test_images / 255.0"
      ],
      "execution_count": 0,
      "outputs": []
    },
    {
      "cell_type": "code",
      "metadata": {
        "id": "e3srazQro11y",
        "colab_type": "code",
        "colab": {
          "base_uri": "https://localhost:8080/",
          "height": 298
        },
        "outputId": "76afe53d-af4c-481a-c66d-2a1ad9ad2ab7"
      },
      "source": [
        "plt.title(\"Normalized Example\")\n",
        "plt.imshow(training_images[0])"
      ],
      "execution_count": 74,
      "outputs": [
        {
          "output_type": "execute_result",
          "data": {
            "text/plain": [
              "<matplotlib.image.AxesImage at 0x7f9cf22881d0>"
            ]
          },
          "metadata": {
            "tags": []
          },
          "execution_count": 74
        },
        {
          "output_type": "display_data",
          "data": {
            "image/png": "[encoded data removed]",
            "text/plain": [
              "<Figure size 432x288 with 1 Axes>"
            ]
          },
          "metadata": {
            "tags": []
          }
        }
      ]
    },
    {
      "cell_type": "markdown",
      "metadata": {
        "id": "LTknBHE-o48K",
        "colab_type": "text"
      },
      "source": [
        "### Creating the model"
      ]
    },
    {
      "cell_type": "code",
      "metadata": {
        "id": "m-7TMcvivLuX",
        "colab_type": "code",
        "colab": {}
      },
      "source": [
        "class myCallback(kr.callbacks.Callback):\n",
        "  def on_epoch_end(self, epoch, logs={}):\n",
        "    if (logs.get('loss') < 0.4):\n",
        "      print(\"\\nReached 60% accuracy so ending the training.\")\n",
        "      self.model.stop_training = True"
      ],
      "execution_count": 0,
      "outputs": []
    },
    {
      "cell_type": "code",
      "metadata": {
        "id": "ScFKV3t7pQvJ",
        "colab_type": "code",
        "colab": {}
      },
      "source": [
        "model = kr.models.Sequential([\n",
        "    kr.layers.Flatten(),\n",
        "#     kr.layers.Dense(128, activation=tf.nn.relu),\n",
        "    kr.layers.Dense(512, activation=tf.nn.relu),\n",
        "#     kr.layers.Dense(1024, activation=tf.nn.relu),\n",
        "    kr.layers.Dense(10, activation=tf.nn.softmax)\n",
        "])"
      ],
      "execution_count": 0,
      "outputs": []
    },
    {
      "cell_type": "code",
      "metadata": {
        "id": "owcNOBYxpc2Z",
        "colab_type": "code",
        "colab": {}
      },
      "source": [
        "model.compile(optimizer='adam', loss='sparse_categorical_crossentropy', metrics=['accuracy'])"
      ],
      "execution_count": 0,
      "outputs": []
    },
    {
      "cell_type": "code",
      "metadata": {
        "id": "ogcl_xtjpyvx",
        "colab_type": "code",
        "colab": {
          "base_uri": "https://localhost:8080/",
          "height": 178
        },
        "outputId": "ae88b315-10f6-4465-f43a-4dd8b15dfe58"
      },
      "source": [
        "model.fit(training_images, training_labels, validation_data=(test_images, test_labels), epochs=5, callbacks=[myCallback()])"
      ],
      "execution_count": 85,
      "outputs": [
        {
          "output_type": "stream",
          "text": [
            "Train on 60000 samples, validate on 10000 samples\n",
            "Epoch 1/5\n",
            "60000/60000 [==============================] - 6s 97us/sample - loss: 0.4725 - accuracy: 0.8317 - val_loss: 0.4210 - val_accuracy: 0.8492\n",
            "Epoch 2/5\n",
            "59744/60000 [============================>.] - ETA: 0s - loss: 0.3584 - accuracy: 0.8691\n",
            "Reached 60% accuracy so ending the training.\n",
            "60000/60000 [==============================] - 6s 94us/sample - loss: 0.3583 - accuracy: 0.8691 - val_loss: 0.3697 - val_accuracy: 0.8678\n"
          ],
          "name": "stdout"
        },
        {
          "output_type": "execute_result",
          "data": {
            "text/plain": [
              "<tensorflow.python.keras.callbacks.History at 0x7f9cde4df668>"
            ]
          },
          "metadata": {
            "tags": []
          },
          "execution_count": 85
        }
      ]
    },
    {
      "cell_type": "code",
      "metadata": {
        "id": "cX7DIoSVqdsB",
        "colab_type": "code",
        "colab": {
          "base_uri": "https://localhost:8080/",
          "height": 72
        },
        "outputId": "11541740-5889-4a6f-926a-36c8c246e7b2"
      },
      "source": [
        "model.evaluate(test_images, test_labels)"
      ],
      "execution_count": 86,
      "outputs": [
        {
          "output_type": "stream",
          "text": [
            "10000/10000 [==============================] - 1s 54us/sample - loss: 0.3697 - accuracy: 0.8678\n"
          ],
          "name": "stdout"
        },
        {
          "output_type": "execute_result",
          "data": {
            "text/plain": [
              "[0.36972635397911074, 0.8678]"
            ]
          },
          "metadata": {
            "tags": []
          },
          "execution_count": 86
        }
      ]
    },
    {
      "cell_type": "code",
      "metadata": {
        "id": "mQNYyUW3ql56",
        "colab_type": "code",
        "colab": {}
      },
      "source": [
        "classifications = model.predict(test_images)"
      ],
      "execution_count": 0,
      "outputs": []
    },
    {
      "cell_type": "code",
      "metadata": {
        "id": "qngF1p5-qro5",
        "colab_type": "code",
        "colab": {
          "base_uri": "https://localhost:8080/",
          "height": 70
        },
        "outputId": "bba1cc73-c725-4fcf-d635-0bb17262048c"
      },
      "source": [
        "classifications[0]"
      ],
      "execution_count": 88,
      "outputs": [
        {
          "output_type": "execute_result",
          "data": {
            "text/plain": [
              "array([1.5208898e-04, 4.5707870e-07, 4.1109146e-05, 1.3858183e-05,\n",
              "       3.5020217e-05, 7.6241449e-02, 4.3629986e-04, 2.3297589e-01,\n",
              "       5.1444173e-03, 6.8495947e-01], dtype=float32)"
            ]
          },
          "metadata": {
            "tags": []
          },
          "execution_count": 88
        }
      ]
    },
    {
      "cell_type": "code",
      "metadata": {
        "id": "7f1lELwWqsqB",
        "colab_type": "code",
        "colab": {
          "base_uri": "https://localhost:8080/",
          "height": 34
        },
        "outputId": "755462fc-cafd-4b1b-a5e0-30da49190ccb"
      },
      "source": [
        "print(test_labels[0])"
      ],
      "execution_count": 89,
      "outputs": [
        {
          "output_type": "stream",
          "text": [
            "9\n"
          ],
          "name": "stdout"
        }
      ]
    },
    {
      "cell_type": "markdown",
      "metadata": {
        "id": "4OdbDhAvq_MB",
        "colab_type": "text"
      },
      "source": [
        "## Handwriting Recognition"
      ]
    },
    {
      "cell_type": "code",
      "metadata": {
        "id": "X0LbKdq9xD2D",
        "colab_type": "code",
        "colab": {}
      },
      "source": [
        "mnist = kr.datasets.mnist"
      ],
      "execution_count": 0,
      "outputs": []
    },
    {
      "cell_type": "code",
      "metadata": {
        "id": "yeTjx6P1xJLP",
        "colab_type": "code",
        "colab": {
          "base_uri": "https://localhost:8080/",
          "height": 72
        },
        "outputId": "7c29411a-e6c6-47ae-e186-2696c11231b9"
      },
      "source": [
        "(x_train, y_train), (x_test, y_test) = mnist.load_data()"
      ],
      "execution_count": 91,
      "outputs": [
        {
          "output_type": "stream",
          "text": [
            "Downloading data from https://storage.googleapis.com/tensorflow/tf-keras-datasets/mnist.npz\n",
            "11493376/11490434 [==============================] - 0s 0us/step\n"
          ],
          "name": "stdout"
        }
      ]
    },
    {
      "cell_type": "code",
      "metadata": {
        "id": "uah3IuYXyTn3",
        "colab_type": "code",
        "colab": {}
      },
      "source": [
        "x_train = x_train / 255.0\n",
        "x_test = x_test / 255.0"
      ],
      "execution_count": 0,
      "outputs": []
    },
    {
      "cell_type": "code",
      "metadata": {
        "id": "ZIsZVVZ3xwtr",
        "colab_type": "code",
        "colab": {}
      },
      "source": [
        "class StopCallback(kr.callbacks.Callback):\n",
        "  def on_epoch_end(self, epoch, logs={}):\n",
        "    if logs.get('accuracy') > 0.99:\n",
        "      print(\"\\nRequired Accuracy Achieved\")\n",
        "      self.model.stop_training=True"
      ],
      "execution_count": 0,
      "outputs": []
    },
    {
      "cell_type": "code",
      "metadata": {
        "id": "jPDahzWnxM8t",
        "colab_type": "code",
        "colab": {}
      },
      "source": [
        "model = kr.models.Sequential([\n",
        "    kr.layers.Flatten(),\n",
        "    kr.layers.Dense(512, activation=tf.nn.relu),\n",
        "    kr.layers.Dense(10, activation=tf.nn.softmax)\n",
        "])"
      ],
      "execution_count": 0,
      "outputs": []
    },
    {
      "cell_type": "code",
      "metadata": {
        "id": "ILqLv5Z4xb3E",
        "colab_type": "code",
        "colab": {}
      },
      "source": [
        "model.compile(optimizer='adam', loss='sparse_categorical_crossentropy', metrics=['accuracy'])"
      ],
      "execution_count": 0,
      "outputs": []
    },
    {
      "cell_type": "code",
      "metadata": {
        "id": "WvwS6VYSxo34",
        "colab_type": "code",
        "colab": {
          "base_uri": "https://localhost:8080/",
          "height": 283
        },
        "outputId": "0bb7fb22-3760-42b2-db51-57b54164a63a"
      },
      "source": [
        "model.fit(x_train, y_train, validation_data=(x_test, y_test), epochs=10, callbacks=[StopCallback()])"
      ],
      "execution_count": 107,
      "outputs": [
        {
          "output_type": "stream",
          "text": [
            "Train on 60000 samples, validate on 10000 samples\n",
            "Epoch 1/10\n",
            "60000/60000 [==============================] - 7s 110us/sample - loss: 0.2001 - accuracy: 0.9418 - val_loss: 0.1014 - val_accuracy: 0.9683\n",
            "Epoch 2/10\n",
            "60000/60000 [==============================] - 6s 99us/sample - loss: 0.0809 - accuracy: 0.9750 - val_loss: 0.0755 - val_accuracy: 0.9768\n",
            "Epoch 3/10\n",
            "60000/60000 [==============================] - 5s 92us/sample - loss: 0.0521 - accuracy: 0.9837 - val_loss: 0.0725 - val_accuracy: 0.9769\n",
            "Epoch 4/10\n",
            "60000/60000 [==============================] - 6s 92us/sample - loss: 0.0376 - accuracy: 0.9883 - val_loss: 0.0756 - val_accuracy: 0.9784\n",
            "Epoch 5/10\n",
            "59424/60000 [============================>.] - ETA: 0s - loss: 0.0277 - accuracy: 0.9908\n",
            "Required Accuracy Achieved\n",
            "60000/60000 [==============================] - 6s 93us/sample - loss: 0.0275 - accuracy: 0.9909 - val_loss: 0.0861 - val_accuracy: 0.9766\n"
          ],
          "name": "stdout"
        },
        {
          "output_type": "execute_result",
          "data": {
            "text/plain": [
              "<tensorflow.python.keras.callbacks.History at 0x7f9ccd358048>"
            ]
          },
          "metadata": {
            "tags": []
          },
          "execution_count": 107
        }
      ]
    },
    {
      "cell_type": "code",
      "metadata": {
        "id": "VUKxX1ruyR8Q",
        "colab_type": "code",
        "colab": {}
      },
      "source": [
        ""
      ],
      "execution_count": 0,
      "outputs": []
    }
  ]
}