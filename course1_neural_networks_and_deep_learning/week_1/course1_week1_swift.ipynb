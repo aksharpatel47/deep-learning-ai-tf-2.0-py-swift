{
  "nbformat": 4,
  "nbformat_minor": 0,
  "metadata": {
    "colab": {
      "name": "Copy of blank_swift.ipynb",
      "version": "0.3.2",
      "provenance": [],
      "collapsed_sections": [],
      "include_colab_link": true
    },
    "kernelspec": {
      "name": "swift",
      "display_name": "Swift"
    },
    "accelerator": "GPU"
  },
  "cells": [
    {
      "cell_type": "markdown",
      "metadata": {
        "id": "view-in-github",
        "colab_type": "text"
      },
      "source": [
        "<a href=\"https://colab.research.google.com/github/aksharpatel47/deep-learning-ai-tf-2.0-swift/blob/master/course1_neural_networks_and_deep_learning/week_1/course1_week1_swift.ipynb\" target=\"_parent\"><img src=\"https://colab.research.google.com/assets/colab-badge.svg\" alt=\"Open In Colab\"/></a>"
      ]
    },
    {
      "metadata": {
        "id": "kZRlD4utdPuX",
        "colab_type": "code",
        "colab": {}
      },
      "cell_type": "code",
      "source": [
        "import TensorFlow\n",
        "import Python"
      ],
      "execution_count": 0,
      "outputs": []
    },
    {
      "metadata": {
        "id": "00pP8kIQM1k1",
        "colab_type": "code",
        "colab": {}
      },
      "cell_type": "code",
      "source": [
        "%include \"EnableIPythonDisplay.swift\""
      ],
      "execution_count": 0,
      "outputs": []
    },
    {
      "metadata": {
        "id": "KzvTY-m3M9i2",
        "colab_type": "code",
        "colab": {}
      },
      "cell_type": "code",
      "source": [
        "let plt = Python.import(\"matplotlib.pyplot\")"
      ],
      "execution_count": 0,
      "outputs": []
    },
    {
      "metadata": {
        "id": "5GtSleJ-NCQ1",
        "colab_type": "code",
        "outputId": "85a71b43-10a5-49d0-9f4b-a42e5bd41c26",
        "colab": {
          "base_uri": "https://localhost:8080/",
          "height": 34
        }
      },
      "cell_type": "code",
      "source": [
        "IPythonDisplay.shell.enable_matplotlib(\"inline\")"
      ],
      "execution_count": 0,
      "outputs": [
        {
          "output_type": "execute_result",
          "data": {
            "text/plain": [
              "('inline', 'module://ipykernel.pylab.backend_inline')\n"
            ]
          },
          "metadata": {
            "tags": []
          },
          "execution_count": 7
        }
      ]
    },
    {
      "metadata": {
        "id": "vEnBak_1NHj-",
        "colab_type": "code",
        "outputId": "f667eca4-6da7-4fba-b627-0c32a7716a95",
        "colab": {
          "base_uri": "https://localhost:8080/",
          "height": 114
        }
      },
      "cell_type": "code",
      "source": [
        "let path = Python.import(\"os.path\")\n",
        "let urllib = Python.import(\"urllib.request\")\n",
        "let helperFiles = [\"TutorialDatasetCSVAPI.swift\"]\n",
        "let helperFileBaseURL = \"https://raw.githubusercontent.com/tensorflow/swift/master/docs/site/tutorials/\"\n",
        "for helperFile in helperFiles {\n",
        "    if !Bool(path.isfile(helperFile))! {\n",
        "        print(\"Downloading \\(helperFile)\")\n",
        "        urllib.urlretrieve(helperFileBaseURL + helperFile, filename: helperFile)\n",
        "    } else {\n",
        "        print(\"Not downloading \\(helperFile): already exists\")\n",
        "    }\n",
        "}"
      ],
      "execution_count": 0,
      "outputs": [
        {
          "output_type": "stream",
          "text": [
            "Downloading TutorialDatasetCSVAPI.swift\r\n"
          ],
          "name": "stdout"
        },
        {
          "output_type": "error",
          "ename": "",
          "evalue": "ignored",
          "traceback": [
            "Current stack trace:",
            "\tframe #66: 0x00007f3714ec276a $__lldb_expr85`main at <Cell 13>:8:9"
          ]
        }
      ]
    },
    {
      "metadata": {
        "id": "4oFW8jw2OZiy",
        "colab_type": "code",
        "outputId": "c43ec86e-6b14-4df4-b734-495cd935d8da",
        "colab": {
          "base_uri": "https://localhost:8080/",
          "height": 34
        }
      },
      "cell_type": "code",
      "source": [
        "Raw.mul(Tensor([2.0, 3.0]), Tensor([5.0, 6.0]))"
      ],
      "execution_count": 0,
      "outputs": [
        {
          "output_type": "execute_result",
          "data": {
            "text/plain": [
              "[10.0, 18.0]\n"
            ]
          },
          "metadata": {
            "tags": []
          },
          "execution_count": 15
        }
      ]
    },
    {
      "metadata": {
        "id": "GegTqIgwOym7",
        "colab_type": "code",
        "colab": {}
      },
      "cell_type": "code",
      "source": [
        ""
      ],
      "execution_count": 0,
      "outputs": []
    }
  ]
}