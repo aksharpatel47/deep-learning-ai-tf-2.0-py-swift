{
 "cells": [
  {
   "cell_type": "code",
   "execution_count": 1,
   "metadata": {},
   "outputs": [],
   "source": [
    "import torch"
   ]
  },
  {
   "cell_type": "code",
   "execution_count": 5,
   "metadata": {},
   "outputs": [
    {
     "data": {
      "text/plain": [
       "tensor([[0.1162, 0.4364, 0.6154],\n",
       "        [0.0361, 0.3043, 0.2003],\n",
       "        [0.2186, 0.7919, 0.2028],\n",
       "        [0.2535, 0.3592, 0.3159],\n",
       "        [0.1574, 0.0857, 0.6120]])"
      ]
     },
     "execution_count": 5,
     "metadata": {},
     "output_type": "execute_result"
    }
   ],
   "source": [
    "a = torch.rand(5, 3); a"
   ]
  },
  {
   "cell_type": "code",
   "execution_count": 6,
   "metadata": {},
   "outputs": [
    {
     "data": {
      "text/plain": [
       "tensor([[0.3196, 0.7783, 0.9221],\n",
       "        [0.1676, 0.2020, 0.2486],\n",
       "        [0.7980, 0.9149, 0.4318],\n",
       "        [0.6365, 0.7883, 0.7364],\n",
       "        [0.8928, 0.5819, 0.1187]])"
      ]
     },
     "execution_count": 6,
     "metadata": {},
     "output_type": "execute_result"
    }
   ],
   "source": [
    "b = torch.rand(5, 3); b"
   ]
  },
  {
   "cell_type": "code",
   "execution_count": 7,
   "metadata": {},
   "outputs": [
    {
     "data": {
      "text/plain": [
       "tensor([[0.4358, 1.2146, 1.5375],\n",
       "        [0.2036, 0.5063, 0.4489],\n",
       "        [1.0166, 1.7068, 0.6346],\n",
       "        [0.8900, 1.1475, 1.0524],\n",
       "        [1.0502, 0.6675, 0.7306]])"
      ]
     },
     "execution_count": 7,
     "metadata": {},
     "output_type": "execute_result"
    }
   ],
   "source": [
    "# Adding two tensors\n",
    "a + b"
   ]
  },
  {
   "cell_type": "code",
   "execution_count": 12,
   "metadata": {},
   "outputs": [
    {
     "data": {
      "text/plain": [
       "tensor([[0.0371, 0.3396, 0.5675],\n",
       "        [0.0060, 0.0615, 0.0498],\n",
       "        [0.1744, 0.7245, 0.0876],\n",
       "        [0.1613, 0.2831, 0.2327],\n",
       "        [0.1406, 0.0498, 0.0726]])"
      ]
     },
     "execution_count": 12,
     "metadata": {},
     "output_type": "execute_result"
    }
   ],
   "source": [
    "#Multiplying two tensors\n",
    "a*b"
   ]
  },
  {
   "cell_type": "code",
   "execution_count": 13,
   "metadata": {},
   "outputs": [
    {
     "data": {
      "text/plain": [
       "tensor([[0.2324, 0.8727, 1.2308],\n",
       "        [0.0721, 0.6086, 0.4006],\n",
       "        [0.4371, 1.5837, 0.4057],\n",
       "        [0.5069, 0.7183, 0.6319],\n",
       "        [0.3149, 0.1713, 1.2239]])"
      ]
     },
     "execution_count": 13,
     "metadata": {},
     "output_type": "execute_result"
    }
   ],
   "source": [
    "# Multiply a tensor and a scalar\n",
    "a*2"
   ]
  },
  {
   "cell_type": "code",
   "execution_count": 16,
   "metadata": {},
   "outputs": [
    {
     "data": {
      "text/plain": [
       "tensor([[0.9442, 0.2606, 0.7577, 0.8712, 0.4307],\n",
       "        [0.4331, 0.1173, 0.3937, 0.4103, 0.2330],\n",
       "        [0.8732, 0.2470, 0.9865, 0.9127, 0.6800],\n",
       "        [0.6519, 0.1936, 0.6673, 0.6771, 0.4728],\n",
       "        [0.6813, 0.1958, 0.4683, 0.6184, 0.2630]])"
      ]
     },
     "execution_count": 16,
     "metadata": {},
     "output_type": "execute_result"
    }
   ],
   "source": [
    "# Matrix multiplication\n",
    "m = a@b.T; m"
   ]
  },
  {
   "cell_type": "code",
   "execution_count": 25,
   "metadata": {},
   "outputs": [],
   "source": [
    "n = 1000"
   ]
  },
  {
   "cell_type": "code",
   "execution_count": 26,
   "metadata": {},
   "outputs": [],
   "source": [
    "x = torch.rand(n, n)\n",
    "y = torch.rand(n, n)"
   ]
  },
  {
   "cell_type": "code",
   "execution_count": 27,
   "metadata": {},
   "outputs": [
    {
     "name": "stdout",
     "output_type": "stream",
     "text": [
      "11.8 ms ± 150 µs per loop (mean ± std. dev. of 7 runs, 100 loops each)\n"
     ]
    }
   ],
   "source": [
    "%timeit x@y"
   ]
  },
  {
   "cell_type": "code",
   "execution_count": 28,
   "metadata": {},
   "outputs": [
    {
     "name": "stdout",
     "output_type": "stream",
     "text": [
      "513 µs ± 2.63 µs per loop (mean ± std. dev. of 7 runs, 10000 loops each)\n"
     ]
    }
   ],
   "source": [
    "if torch.cuda.is_available():\n",
    "    device = torch.device(\"cuda\")\n",
    "    x = x.to(device)\n",
    "    y = y.to(device)\n",
    "    %timeit x@y\n",
    "    "
   ]
  },
  {
   "cell_type": "code",
   "execution_count": null,
   "metadata": {},
   "outputs": [],
   "source": []
  }
 ],
 "metadata": {
  "kernelspec": {
   "display_name": "Python 3",
   "language": "python",
   "name": "python3"
  },
  "language_info": {
   "codemirror_mode": {
    "name": "ipython",
    "version": 3
   },
   "file_extension": ".py",
   "mimetype": "text/x-python",
   "name": "python",
   "nbconvert_exporter": "python",
   "pygments_lexer": "ipython3",
   "version": "3.7.4"
  }
 },
 "nbformat": 4,
 "nbformat_minor": 2
}
